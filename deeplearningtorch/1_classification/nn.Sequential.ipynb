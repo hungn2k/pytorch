{
 "cells": [
  {
   "cell_type": "code",
   "execution_count": 1,
   "id": "719b2bc1",
   "metadata": {},
   "outputs": [],
   "source": [
    "import torch\n",
    "import torch.nn as nn\n"
   ]
  },
  {
   "cell_type": "code",
   "execution_count": 3,
   "id": "afa36dfa",
   "metadata": {},
   "outputs": [],
   "source": [
    "net = nn.Sequential()"
   ]
  },
  {
   "cell_type": "code",
   "execution_count": 5,
   "id": "f5e74af0",
   "metadata": {},
   "outputs": [],
   "source": [
    "class Flatten(nn.Module):\n",
    "    def forward(self, x): # x = (10,3,32,32)\n",
    "        size = x.size()[1:]\n",
    "        num_features=1\n",
    "        for s in size:\n",
    "            num_features *=s\n",
    "        return x.view(-1, num_features)"
   ]
  },
  {
   "cell_type": "code",
   "execution_count": 11,
   "id": "e0114587",
   "metadata": {},
   "outputs": [],
   "source": [
    "net.add_module(\"Conv1\", nn.Conv2d(1,6,3))\n",
    "net.add_module(\"ReLU\", nn.ReLU())\n",
    "net.add_module(\"MaxPooling1\", nn.MaxPool2d(2))\n",
    "\n",
    "net.add_module(\"Conv2d\",nn.Conv2d(6,16,3))\n",
    "net.add_module(\"ReLU\", nn.ReLU())\n",
    "net.add_module(\"MaxPooling2\", nn.MaxPool2d(2))\n",
    "net.add_module(\"Flatten\",Flatten())\n",
    "\n",
    "net.add_module(\"Fc1\", nn.Linear(16*6*6, 120))\n",
    "net.add_module(\"fc2\", nn.Linear(120, 84))\n",
    "net.add_module(\"fc3\", nn.Linear(84, 10))"
   ]
  },
  {
   "cell_type": "code",
   "execution_count": 12,
   "id": "cc473fbd",
   "metadata": {},
   "outputs": [
    {
     "name": "stdout",
     "output_type": "stream",
     "text": [
      "Sequential(\n",
      "  (Conv1): Conv2d(1, 6, kernel_size=(3, 3), stride=(1, 1))\n",
      "  (ReLU): ReLU()\n",
      "  (MaxPooling1): MaxPool2d(kernel_size=2, stride=2, padding=0, dilation=1, ceil_mode=False)\n",
      "  (Conv2d): Conv2d(6, 16, kernel_size=(3, 3), stride=(1, 1))\n",
      "  (MaxPooling2): MaxPool2d(kernel_size=2, stride=2, padding=0, dilation=1, ceil_mode=False)\n",
      "  (Flatten): Flatten()\n",
      "  (Fc1): Linear(in_features=576, out_features=120, bias=True)\n",
      "  (fc2): Linear(in_features=120, out_features=84, bias=True)\n",
      "  (fc3): Linear(in_features=84, out_features=10, bias=True)\n",
      ")\n"
     ]
    }
   ],
   "source": [
    "print(net)"
   ]
  },
  {
   "cell_type": "code",
   "execution_count": 8,
   "id": "50f17fc2",
   "metadata": {},
   "outputs": [],
   "source": [
    "input = torch.rand(1,1,32,32)"
   ]
  },
  {
   "cell_type": "code",
   "execution_count": 13,
   "id": "f27d3f86",
   "metadata": {},
   "outputs": [
    {
     "name": "stdout",
     "output_type": "stream",
     "text": [
      "torch.Size([1, 10])\n"
     ]
    }
   ],
   "source": [
    "output = net(input)\n",
    "print(output.shape)"
   ]
  },
  {
   "cell_type": "code",
   "execution_count": null,
   "id": "9954cd4d",
   "metadata": {},
   "outputs": [],
   "source": []
  }
 ],
 "metadata": {
  "kernelspec": {
   "display_name": "Python 3 (ipykernel)",
   "language": "python",
   "name": "python3"
  },
  "language_info": {
   "codemirror_mode": {
    "name": "ipython",
    "version": 3
   },
   "file_extension": ".py",
   "mimetype": "text/x-python",
   "name": "python",
   "nbconvert_exporter": "python",
   "pygments_lexer": "ipython3",
   "version": "3.8.12"
  }
 },
 "nbformat": 4,
 "nbformat_minor": 5
}
