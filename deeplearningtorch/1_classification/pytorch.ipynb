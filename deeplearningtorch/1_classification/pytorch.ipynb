{
 "cells": [
  {
   "cell_type": "code",
   "execution_count": 1,
   "id": "c1f688b7",
   "metadata": {},
   "outputs": [
    {
     "name": "stdout",
     "output_type": "stream",
     "text": [
      "Python 3.8.12\n"
     ]
    }
   ],
   "source": [
    "!python --version\n"
   ]
  },
  {
   "cell_type": "code",
   "execution_count": 2,
   "id": "9d7eea8d",
   "metadata": {},
   "outputs": [
    {
     "name": "stdout",
     "output_type": "stream",
     "text": [
      "Name: torch\n",
      "Version: 1.10.2\n",
      "Summary: Tensors and Dynamic neural networks in Python with strong GPU acceleration\n",
      "Home-page: https://pytorch.org/\n",
      "Author: PyTorch Team\n",
      "Author-email: packages@pytorch.org\n",
      "License: BSD-3\n",
      "Location: c:\\users\\admin\\anaconda3\\envs\\py38\\lib\\site-packages\n",
      "Requires: typing_extensions\n",
      "Required-by: torchvision, torchaudio\n"
     ]
    }
   ],
   "source": [
    "!pip show torch\n"
   ]
  },
  {
   "cell_type": "code",
   "execution_count": 3,
   "id": "f6b5c900",
   "metadata": {
    "scrolled": true
   },
   "outputs": [
    {
     "name": "stdout",
     "output_type": "stream",
     "text": [
      "Name: numpy\n",
      "Version: 1.21.5\n",
      "Summary: NumPy is the fundamental package for array computing with Python.\n",
      "Home-page: https://www.numpy.org\n",
      "Author: Travis E. Oliphant et al.\n",
      "Author-email: \n",
      "License: BSD\n",
      "Location: c:\\users\\admin\\anaconda3\\envs\\py38\\lib\\site-packages\n",
      "Requires: \n",
      "Required-by: torchvision, mkl-random, mkl-fft\n"
     ]
    }
   ],
   "source": [
    "!pip show numpy"
   ]
  },
  {
   "cell_type": "code",
   "execution_count": 4,
   "id": "9dfad368",
   "metadata": {},
   "outputs": [],
   "source": [
    "import torch"
   ]
  },
  {
   "cell_type": "code",
   "execution_count": 8,
   "id": "a80da204",
   "metadata": {},
   "outputs": [
    {
     "data": {
      "text/plain": [
       "tensor([[0.1249, 0.0088, 0.3058],\n",
       "        [0.1617, 0.8381, 0.7358],\n",
       "        [0.2736, 0.0951, 0.0446],\n",
       "        [0.8726, 0.5521, 0.6833],\n",
       "        [0.4556, 0.2890, 0.6444]])"
      ]
     },
     "execution_count": 8,
     "metadata": {},
     "output_type": "execute_result"
    }
   ],
   "source": [
    "x = torch.empty(5,4)\n",
    "x = torch.rand(5,3)\n",
    "x"
   ]
  },
  {
   "cell_type": "code",
   "execution_count": 9,
   "id": "b243f267",
   "metadata": {},
   "outputs": [],
   "source": [
    "x = torch.zeros(5,3,dtype=torch.long)"
   ]
  },
  {
   "cell_type": "code",
   "execution_count": 10,
   "id": "04add7f5",
   "metadata": {},
   "outputs": [
    {
     "data": {
      "text/plain": [
       "tensor([[0, 0, 0],\n",
       "        [0, 0, 0],\n",
       "        [0, 0, 0],\n",
       "        [0, 0, 0],\n",
       "        [0, 0, 0]])"
      ]
     },
     "execution_count": 10,
     "metadata": {},
     "output_type": "execute_result"
    }
   ],
   "source": [
    "x"
   ]
  },
  {
   "cell_type": "code",
   "execution_count": 14,
   "id": "e6889732",
   "metadata": {},
   "outputs": [],
   "source": [
    "x= torch.Tensor(5,4)"
   ]
  },
  {
   "cell_type": "code",
   "execution_count": 15,
   "id": "8bf607fd",
   "metadata": {},
   "outputs": [
    {
     "data": {
      "text/plain": [
       "tensor([[9.0919e-39, 9.6429e-39, 9.4592e-39, 1.0561e-38],\n",
       "        [9.0919e-39, 9.2755e-39, 2.9389e-39, 1.0286e-38],\n",
       "        [1.0469e-38, 1.0653e-38, 1.0194e-38, 2.9389e-39],\n",
       "        [1.0194e-38, 9.9184e-39, 2.9389e-39, 1.0194e-38],\n",
       "        [2.9389e-39, 9.2755e-39, 9.0918e-39, 1.0010e-38]])"
      ]
     },
     "execution_count": 15,
     "metadata": {},
     "output_type": "execute_result"
    }
   ],
   "source": [
    "x"
   ]
  },
  {
   "cell_type": "code",
   "execution_count": 16,
   "id": "b6445308",
   "metadata": {},
   "outputs": [],
   "source": [
    "x= torch.Tensor([5.5, 3.3])"
   ]
  },
  {
   "cell_type": "code",
   "execution_count": 17,
   "id": "fa8f4c77",
   "metadata": {},
   "outputs": [
    {
     "data": {
      "text/plain": [
       "tensor([5.5000, 3.3000])"
      ]
     },
     "execution_count": 17,
     "metadata": {},
     "output_type": "execute_result"
    }
   ],
   "source": [
    "x"
   ]
  },
  {
   "cell_type": "code",
   "execution_count": 18,
   "id": "d1fb0f47",
   "metadata": {},
   "outputs": [],
   "source": [
    "x= torch.ones(5,3)"
   ]
  },
  {
   "cell_type": "code",
   "execution_count": 19,
   "id": "d397b9be",
   "metadata": {},
   "outputs": [
    {
     "data": {
      "text/plain": [
       "tensor([[1., 1., 1.],\n",
       "        [1., 1., 1.],\n",
       "        [1., 1., 1.],\n",
       "        [1., 1., 1.],\n",
       "        [1., 1., 1.]])"
      ]
     },
     "execution_count": 19,
     "metadata": {},
     "output_type": "execute_result"
    }
   ],
   "source": [
    "x"
   ]
  },
  {
   "cell_type": "code",
   "execution_count": 22,
   "id": "ad2086d8",
   "metadata": {},
   "outputs": [],
   "source": [
    "y =torch.randn_like(x,dtype = torch.double)"
   ]
  },
  {
   "cell_type": "code",
   "execution_count": 23,
   "id": "18377378",
   "metadata": {},
   "outputs": [
    {
     "data": {
      "text/plain": [
       "tensor([[ 0.5632, -1.1967, -1.7569],\n",
       "        [-0.6298, -0.6054,  1.2663],\n",
       "        [ 1.9315, -0.6364, -0.1327],\n",
       "        [ 0.5516,  1.7935,  0.4464],\n",
       "        [ 0.3548,  0.6822,  1.5304]], dtype=torch.float64)"
      ]
     },
     "execution_count": 23,
     "metadata": {},
     "output_type": "execute_result"
    }
   ],
   "source": [
    "y"
   ]
  },
  {
   "cell_type": "code",
   "execution_count": 24,
   "id": "e68ca782",
   "metadata": {},
   "outputs": [
    {
     "data": {
      "text/plain": [
       "torch.Size([5, 3])"
      ]
     },
     "execution_count": 24,
     "metadata": {},
     "output_type": "execute_result"
    }
   ],
   "source": [
    "y.shape"
   ]
  },
  {
   "cell_type": "code",
   "execution_count": 26,
   "id": "6dafb96e",
   "metadata": {},
   "outputs": [
    {
     "data": {
      "text/plain": [
       "torch.Size([5, 3])"
      ]
     },
     "execution_count": 26,
     "metadata": {},
     "output_type": "execute_result"
    }
   ],
   "source": [
    "y.size()"
   ]
  },
  {
   "cell_type": "code",
   "execution_count": 27,
   "id": "afff2f07",
   "metadata": {},
   "outputs": [
    {
     "data": {
      "text/plain": [
       "tensor([[1., 1., 1.],\n",
       "        [1., 1., 1.],\n",
       "        [1., 1., 1.],\n",
       "        [1., 1., 1.],\n",
       "        [1., 1., 1.]])"
      ]
     },
     "execution_count": 27,
     "metadata": {},
     "output_type": "execute_result"
    }
   ],
   "source": [
    "x"
   ]
  },
  {
   "cell_type": "code",
   "execution_count": 28,
   "id": "de9c7921",
   "metadata": {},
   "outputs": [],
   "source": [
    "y = torch.rand(5,3)"
   ]
  },
  {
   "cell_type": "code",
   "execution_count": 29,
   "id": "02d18e7a",
   "metadata": {},
   "outputs": [
    {
     "data": {
      "text/plain": [
       "tensor([[0.4509, 0.3644, 0.5136],\n",
       "        [0.6777, 0.9909, 0.6185],\n",
       "        [0.4720, 0.4002, 0.8225],\n",
       "        [0.8635, 0.2846, 0.8514],\n",
       "        [0.3793, 0.8218, 0.1989]])"
      ]
     },
     "execution_count": 29,
     "metadata": {},
     "output_type": "execute_result"
    }
   ],
   "source": [
    "y"
   ]
  },
  {
   "cell_type": "code",
   "execution_count": 30,
   "id": "03ce6683",
   "metadata": {},
   "outputs": [
    {
     "data": {
      "text/plain": [
       "tensor([[1.4509, 1.3644, 1.5136],\n",
       "        [1.6777, 1.9909, 1.6185],\n",
       "        [1.4720, 1.4002, 1.8225],\n",
       "        [1.8635, 1.2846, 1.8514],\n",
       "        [1.3793, 1.8218, 1.1989]])"
      ]
     },
     "execution_count": 30,
     "metadata": {},
     "output_type": "execute_result"
    }
   ],
   "source": [
    "z= x+ y\n",
    "z"
   ]
  },
  {
   "cell_type": "code",
   "execution_count": 31,
   "id": "e23f6cf0",
   "metadata": {},
   "outputs": [
    {
     "data": {
      "text/plain": [
       "tensor([[1.4509, 1.3644, 1.5136],\n",
       "        [1.6777, 1.9909, 1.6185],\n",
       "        [1.4720, 1.4002, 1.8225],\n",
       "        [1.8635, 1.2846, 1.8514],\n",
       "        [1.3793, 1.8218, 1.1989]])"
      ]
     },
     "execution_count": 31,
     "metadata": {},
     "output_type": "execute_result"
    }
   ],
   "source": [
    "z= torch.add(x,y)\n",
    "z"
   ]
  },
  {
   "cell_type": "code",
   "execution_count": 32,
   "id": "a13e8b99",
   "metadata": {},
   "outputs": [
    {
     "data": {
      "text/plain": [
       "tensor([[1.4509, 1.3644, 1.5136],\n",
       "        [1.6777, 1.9909, 1.6185],\n",
       "        [1.4720, 1.4002, 1.8225],\n",
       "        [1.8635, 1.2846, 1.8514],\n",
       "        [1.3793, 1.8218, 1.1989]])"
      ]
     },
     "execution_count": 32,
     "metadata": {},
     "output_type": "execute_result"
    }
   ],
   "source": [
    "y.add_(x)\n",
    "# y=y+x\n",
    "y"
   ]
  },
  {
   "cell_type": "code",
   "execution_count": 33,
   "id": "0b8cd637",
   "metadata": {},
   "outputs": [],
   "source": [
    "a= torch.rand(4,4)\n",
    "b=torch.rand(4,4)\n",
    "c= torch.empty(4,4)"
   ]
  },
  {
   "cell_type": "code",
   "execution_count": 34,
   "id": "fae045c1",
   "metadata": {},
   "outputs": [
    {
     "data": {
      "text/plain": [
       "tensor([[1.5086, 1.4802, 1.2442, 1.6018],\n",
       "        [1.3722, 0.9952, 1.6221, 1.7750],\n",
       "        [1.6414, 0.6570, 1.2065, 0.8424],\n",
       "        [0.7870, 1.8319, 1.5477, 1.5449]])"
      ]
     },
     "execution_count": 34,
     "metadata": {},
     "output_type": "execute_result"
    }
   ],
   "source": [
    "torch.add(a,b,out=c)"
   ]
  },
  {
   "cell_type": "code",
   "execution_count": 35,
   "id": "808a3f5c",
   "metadata": {},
   "outputs": [
    {
     "data": {
      "text/plain": [
       "tensor([[0.8789, 0.5665, 0.6027, 0.6645],\n",
       "        [0.8163, 0.8527, 0.8845, 0.8005],\n",
       "        [0.9289, 0.3827, 0.7645, 0.0695],\n",
       "        [0.7201, 0.9692, 0.6598, 0.7965]])"
      ]
     },
     "execution_count": 35,
     "metadata": {},
     "output_type": "execute_result"
    }
   ],
   "source": [
    "a"
   ]
  },
  {
   "cell_type": "code",
   "execution_count": 36,
   "id": "ad7546fa",
   "metadata": {},
   "outputs": [
    {
     "data": {
      "text/plain": [
       "tensor([0.5665, 0.8527])"
      ]
     },
     "execution_count": 36,
     "metadata": {},
     "output_type": "execute_result"
    }
   ],
   "source": [
    "a[0:2,1]"
   ]
  },
  {
   "cell_type": "code",
   "execution_count": 37,
   "id": "884b222e",
   "metadata": {},
   "outputs": [
    {
     "data": {
      "text/plain": [
       "tensor([0.5665, 0.8527, 0.3827, 0.9692])"
      ]
     },
     "execution_count": 37,
     "metadata": {},
     "output_type": "execute_result"
    }
   ],
   "source": [
    "a[:,1]"
   ]
  },
  {
   "cell_type": "code",
   "execution_count": 40,
   "id": "ea683c65",
   "metadata": {},
   "outputs": [
    {
     "data": {
      "text/plain": [
       "torch.Size([4, 4])"
      ]
     },
     "execution_count": 40,
     "metadata": {},
     "output_type": "execute_result"
    }
   ],
   "source": [
    "x.shape\n",
    "x=torch.rand(4,4)\n",
    "x.shape"
   ]
  },
  {
   "cell_type": "code",
   "execution_count": 43,
   "id": "5590dd59",
   "metadata": {},
   "outputs": [
    {
     "data": {
      "text/plain": [
       "torch.Size([16])"
      ]
     },
     "execution_count": 43,
     "metadata": {},
     "output_type": "execute_result"
    }
   ],
   "source": [
    "y= x.view(16)\n",
    "y.shape"
   ]
  },
  {
   "cell_type": "code",
   "execution_count": 44,
   "id": "c1162e45",
   "metadata": {},
   "outputs": [],
   "source": [
    "y=x.view(-1,8)"
   ]
  },
  {
   "cell_type": "code",
   "execution_count": 45,
   "id": "8b0aec37",
   "metadata": {},
   "outputs": [
    {
     "data": {
      "text/plain": [
       "torch.Size([2, 8])"
      ]
     },
     "execution_count": 45,
     "metadata": {},
     "output_type": "execute_result"
    }
   ],
   "source": [
    "y.shape"
   ]
  },
  {
   "cell_type": "code",
   "execution_count": 46,
   "id": "a116486d",
   "metadata": {},
   "outputs": [],
   "source": [
    "x = torch.rand(1)"
   ]
  },
  {
   "cell_type": "code",
   "execution_count": 47,
   "id": "af44dbc1",
   "metadata": {},
   "outputs": [
    {
     "data": {
      "text/plain": [
       "tensor([0.4678])"
      ]
     },
     "execution_count": 47,
     "metadata": {},
     "output_type": "execute_result"
    }
   ],
   "source": [
    "x"
   ]
  },
  {
   "cell_type": "code",
   "execution_count": 48,
   "id": "cf79a032",
   "metadata": {},
   "outputs": [
    {
     "data": {
      "text/plain": [
       "0.46777087450027466"
      ]
     },
     "execution_count": 48,
     "metadata": {},
     "output_type": "execute_result"
    }
   ],
   "source": [
    "x.item()"
   ]
  },
  {
   "cell_type": "code",
   "execution_count": 50,
   "id": "05804ce8",
   "metadata": {},
   "outputs": [],
   "source": [
    "x = torch.rand(3,3)"
   ]
  },
  {
   "cell_type": "code",
   "execution_count": 51,
   "id": "f1e751e5",
   "metadata": {},
   "outputs": [
    {
     "data": {
      "text/plain": [
       "tensor([[0.6182, 0.2794, 0.4163],\n",
       "        [0.0949, 0.9744, 0.8253],\n",
       "        [0.1027, 0.3544, 0.9840]])"
      ]
     },
     "execution_count": 51,
     "metadata": {},
     "output_type": "execute_result"
    }
   ],
   "source": [
    "x"
   ]
  },
  {
   "cell_type": "code",
   "execution_count": 52,
   "id": "db639065",
   "metadata": {},
   "outputs": [
    {
     "data": {
      "text/plain": [
       "tensor(0.6182)"
      ]
     },
     "execution_count": 52,
     "metadata": {},
     "output_type": "execute_result"
    }
   ],
   "source": [
    "x[0,0]"
   ]
  },
  {
   "cell_type": "code",
   "execution_count": 57,
   "id": "6d18443e",
   "metadata": {},
   "outputs": [],
   "source": [
    "y= x[0,0]"
   ]
  },
  {
   "cell_type": "markdown",
   "id": "c5767a0c",
   "metadata": {},
   "source": [
    "y.item("
   ]
  },
  {
   "cell_type": "code",
   "execution_count": 58,
   "id": "86ed7040",
   "metadata": {},
   "outputs": [
    {
     "data": {
      "text/plain": [
       "0.6181787848472595"
      ]
     },
     "execution_count": 58,
     "metadata": {},
     "output_type": "execute_result"
    }
   ],
   "source": [
    "y.item()"
   ]
  },
  {
   "cell_type": "code",
   "execution_count": 59,
   "id": "bf1f646b",
   "metadata": {},
   "outputs": [],
   "source": [
    "y =x.numpy()"
   ]
  },
  {
   "cell_type": "code",
   "execution_count": 60,
   "id": "bc7e21d8",
   "metadata": {},
   "outputs": [
    {
     "data": {
      "text/plain": [
       "array([[0.6181788 , 0.27939308, 0.41628408],\n",
       "       [0.09486151, 0.9744328 , 0.8252549 ],\n",
       "       [0.1027118 , 0.3543855 , 0.9840215 ]], dtype=float32)"
      ]
     },
     "execution_count": 60,
     "metadata": {},
     "output_type": "execute_result"
    }
   ],
   "source": [
    "y"
   ]
  },
  {
   "cell_type": "code",
   "execution_count": 61,
   "id": "a10ded8d",
   "metadata": {},
   "outputs": [
    {
     "data": {
      "text/plain": [
       "0.6181788"
      ]
     },
     "execution_count": 61,
     "metadata": {},
     "output_type": "execute_result"
    }
   ],
   "source": [
    "y[0,0]"
   ]
  },
  {
   "cell_type": "code",
   "execution_count": 62,
   "id": "7ed06658",
   "metadata": {},
   "outputs": [],
   "source": [
    "import numpy as np"
   ]
  },
  {
   "cell_type": "code",
   "execution_count": 63,
   "id": "4cbb9ebc",
   "metadata": {},
   "outputs": [],
   "source": [
    "a= np.ones(1)"
   ]
  },
  {
   "cell_type": "code",
   "execution_count": 64,
   "id": "914b33d2",
   "metadata": {},
   "outputs": [
    {
     "data": {
      "text/plain": [
       "array([1.])"
      ]
     },
     "execution_count": 64,
     "metadata": {},
     "output_type": "execute_result"
    }
   ],
   "source": [
    "a"
   ]
  },
  {
   "cell_type": "code",
   "execution_count": 66,
   "id": "9b74ac29",
   "metadata": {},
   "outputs": [],
   "source": [
    "b = torch.from_numpy(a)"
   ]
  },
  {
   "cell_type": "code",
   "execution_count": 67,
   "id": "2df50938",
   "metadata": {},
   "outputs": [
    {
     "data": {
      "text/plain": [
       "tensor([1.], dtype=torch.float64)"
      ]
     },
     "execution_count": 67,
     "metadata": {},
     "output_type": "execute_result"
    }
   ],
   "source": [
    "b\n"
   ]
  },
  {
   "cell_type": "code",
   "execution_count": 68,
   "id": "b3df513c",
   "metadata": {},
   "outputs": [],
   "source": [
    "device = torch.cuda.is_available()"
   ]
  },
  {
   "cell_type": "code",
   "execution_count": 69,
   "id": "68dbbf87",
   "metadata": {},
   "outputs": [
    {
     "data": {
      "text/plain": [
       "False"
      ]
     },
     "execution_count": 69,
     "metadata": {},
     "output_type": "execute_result"
    }
   ],
   "source": [
    "device"
   ]
  },
  {
   "cell_type": "code",
   "execution_count": 70,
   "id": "e0c95119",
   "metadata": {},
   "outputs": [
    {
     "data": {
      "text/plain": [
       "tensor([[0.6182, 0.2794, 0.4163],\n",
       "        [0.0949, 0.9744, 0.8253],\n",
       "        [0.1027, 0.3544, 0.9840]])"
      ]
     },
     "execution_count": 70,
     "metadata": {},
     "output_type": "execute_result"
    }
   ],
   "source": [
    "x"
   ]
  },
  {
   "cell_type": "code",
   "execution_count": 71,
   "id": "5ff9cd68",
   "metadata": {},
   "outputs": [],
   "source": [
    " x =torch.tensor(2.0, requires_grad=True)"
   ]
  },
  {
   "cell_type": "code",
   "execution_count": 72,
   "id": "56a3c481",
   "metadata": {},
   "outputs": [
    {
     "data": {
      "text/plain": [
       "tensor(2., requires_grad=True)"
      ]
     },
     "execution_count": 72,
     "metadata": {},
     "output_type": "execute_result"
    }
   ],
   "source": [
    "x"
   ]
  },
  {
   "cell_type": "code",
   "execution_count": 73,
   "id": "df7cd421",
   "metadata": {},
   "outputs": [
    {
     "data": {
      "text/plain": [
       "tensor(7.3891, grad_fn=<ExpBackward0>)"
      ]
     },
     "execution_count": 73,
     "metadata": {},
     "output_type": "execute_result"
    }
   ],
   "source": [
    "y = torch.exp(x)\n",
    "y\n",
    "# y= e^x"
   ]
  },
  {
   "cell_type": "code",
   "execution_count": 74,
   "id": "46745403",
   "metadata": {},
   "outputs": [],
   "source": [
    "y.backward()"
   ]
  },
  {
   "cell_type": "code",
   "execution_count": 75,
   "id": "72f238bb",
   "metadata": {},
   "outputs": [
    {
     "data": {
      "text/plain": [
       "tensor(7.3891, grad_fn=<ExpBackward0>)"
      ]
     },
     "execution_count": 75,
     "metadata": {},
     "output_type": "execute_result"
    }
   ],
   "source": [
    "y"
   ]
  },
  {
   "cell_type": "code",
   "execution_count": 77,
   "id": "1b31a4c5",
   "metadata": {},
   "outputs": [
    {
     "data": {
      "text/plain": [
       "tensor(7.3891)"
      ]
     },
     "execution_count": 77,
     "metadata": {},
     "output_type": "execute_result"
    }
   ],
   "source": [
    "x.grad"
   ]
  },
  {
   "cell_type": "code",
   "execution_count": null,
   "id": "68eac0c3",
   "metadata": {},
   "outputs": [],
   "source": [
    "torch.Tensor:\n",
    "    - requires_grad: enable luu tru thong tin gradient ko\n",
    "    - grad_fn : lưu thông tin hàm số đã được sử dụng của tensor \n",
    "    - backward(): hàm đạo hàm\n",
    "    - grad: lưu các thông tin đạo hàm"
   ]
  }
 ],
 "metadata": {
  "kernelspec": {
   "display_name": "Python 3 (ipykernel)",
   "language": "python",
   "name": "python3"
  },
  "language_info": {
   "codemirror_mode": {
    "name": "ipython",
    "version": 3
   },
   "file_extension": ".py",
   "mimetype": "text/x-python",
   "name": "python",
   "nbconvert_exporter": "python",
   "pygments_lexer": "ipython3",
   "version": "3.8.12"
  }
 },
 "nbformat": 4,
 "nbformat_minor": 5
}
