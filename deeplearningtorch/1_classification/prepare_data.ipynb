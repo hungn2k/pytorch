{
 "cells": [
  {
   "cell_type": "code",
   "execution_count": 1,
   "id": "73bd0513",
   "metadata": {},
   "outputs": [],
   "source": [
    "import os\n",
    "import zipfile\n",
    "import urllib.request\n",
    "\n",
    "data_dir ='./data'"
   ]
  },
  {
   "cell_type": "code",
   "execution_count": 2,
   "id": "06271399",
   "metadata": {
    "code_folding": []
   },
   "outputs": [],
   "source": [
    "url = 'https://download.pytorch.org/tutorial/hymenoptera_data.zip'\n",
    "save_path = os.path.join(data_dir,\"hymenoptera_data.zip\")\n",
    "\n",
    "if not os.path.exists(save_path):\n",
    "    urllib.request.urlretrieve(url,save_path)\n",
    "    \n",
    "    #read by zipfile\n",
    "    zip = zipfile.ZipFile(save_path)\n",
    "    zip.extractall(data_dir)\n",
    "    zip.close()\n",
    "    \n",
    "    os.remove(save_path)"
   ]
  },
  {
   "cell_type": "code",
   "execution_count": null,
   "id": "d7f300f9",
   "metadata": {},
   "outputs": [],
   "source": []
  }
 ],
 "metadata": {
  "kernelspec": {
   "display_name": "Python 3 (ipykernel)",
   "language": "python",
   "name": "python3"
  },
  "language_info": {
   "codemirror_mode": {
    "name": "ipython",
    "version": 3
   },
   "file_extension": ".py",
   "mimetype": "text/x-python",
   "name": "python",
   "nbconvert_exporter": "python",
   "pygments_lexer": "ipython3",
   "version": "3.8.12"
  }
 },
 "nbformat": 4,
 "nbformat_minor": 5
}
